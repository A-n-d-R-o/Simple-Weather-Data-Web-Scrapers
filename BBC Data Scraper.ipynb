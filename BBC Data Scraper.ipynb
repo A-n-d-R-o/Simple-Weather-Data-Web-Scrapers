{
 "cells": [
  {
   "cell_type": "code",
   "execution_count": null,
   "id": "be4aba76-c62c-4f31-bf39-5f27d16b8833",
   "metadata": {},
   "outputs": [],
   "source": [
    "import os\n",
    "from datetime import datetime, timedelta\n",
    "from requests_html import HTMLSession\n",
    "import pandas as pd"
   ]
  },
  {
   "cell_type": "code",
   "execution_count": null,
   "id": "1ea8b8c9-db22-4818-832b-2d561acd6378",
   "metadata": {},
   "outputs": [],
   "source": [
    "session = HTMLSession()\n",
    "url = 'https://www.bbc.co.uk/weather/2643743'\n",
    "request = session.get(url)"
   ]
  },
  {
   "cell_type": "code",
   "execution_count": null,
   "id": "cb4ff703-d8c2-422c-a4b8-c76392d5076c",
   "metadata": {},
   "outputs": [],
   "source": [
    "forecast_daily = []\n",
    "\n",
    "for index in range(14):\n",
    "\n",
    "    day= f'li.wr-day.wr-day--{index}'\n",
    "    desc = request.html.find(f'{day} div.wr-day__details__weather-type-description', first=True).text\n",
    "    temp_elements = request.html.find(f'{day} span.wr-value--temperature--c')\n",
    "    temp_list = [int(temp_element.text.replace('°', '')) for temp_element in temp_elements]\n",
    "\n",
    "    forecast_daily.append({\n",
    "        'date': (datetime.now() + timedelta(days=index)).strftime('%d-%m'),\n",
    "        'desc': desc,\n",
    "        'max_temp': temp_list[0],\n",
    "        'min_temp': temp_list[1]\n",
    "    })"
   ]
  },
  {
   "cell_type": "code",
   "execution_count": null,
   "id": "9bb61051-774a-4789-8048-e10e455fd1e5",
   "metadata": {},
   "outputs": [],
   "source": [
    "date = datetime.now().strftime('%d-%m')\n",
    "df = pd.DataFrame(forecast_daily)\n",
    "\n",
    "output_folder = 'BBC Scraped Data'\n",
    "os.makedirs(output_folder, exist_ok=True)\n",
    "\n",
    "output_path = os.path.join(output_folder, f'{date}.csv')\n",
    "df.to_csv(output_path, index=False)"
   ]
  }
 ],
 "metadata": {
  "kernelspec": {
   "display_name": "Python 3 (ipykernel)",
   "language": "python",
   "name": "python3"
  },
  "language_info": {
   "codemirror_mode": {
    "name": "ipython",
    "version": 3
   },
   "file_extension": ".py",
   "mimetype": "text/x-python",
   "name": "python",
   "nbconvert_exporter": "python",
   "pygments_lexer": "ipython3",
   "version": "3.11.2"
  }
 },
 "nbformat": 4,
 "nbformat_minor": 5
}
