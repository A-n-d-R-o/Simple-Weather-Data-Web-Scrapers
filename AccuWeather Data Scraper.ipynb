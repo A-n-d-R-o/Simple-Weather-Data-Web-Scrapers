{
 "cells": [
  {
   "cell_type": "markdown",
   "id": "dbf70902-5089-4827-b8fc-21b7fdea25b1",
   "metadata": {},
   "source": [
    "## Imports"
   ]
  },
  {
   "cell_type": "code",
   "execution_count": null,
   "id": "7ae11dc0-6233-41cc-bf16-f5a2f26a0400",
   "metadata": {},
   "outputs": [],
   "source": [
    "import os\n",
    "from datetime import datetime\n",
    "from requests_html import HTMLSession\n",
    "import pandas as pd"
   ]
  },
  {
   "cell_type": "markdown",
   "id": "d9f3c23b-618e-4692-9b1c-b158609178ff",
   "metadata": {},
   "source": [
    "## HTML request"
   ]
  },
  {
   "cell_type": "code",
   "execution_count": null,
   "id": "e5ccb281-b9da-41cb-9bd8-e79bc9a147fc",
   "metadata": {},
   "outputs": [],
   "source": [
    "session = HTMLSession()\n",
    "request = session.get('https://www.accuweather.com/en/gb/london/ec4a-2/daily-weather-forecast/328328')"
   ]
  },
  {
   "cell_type": "markdown",
   "id": "6257d85e-15c9-4c73-aa43-2da2a4b70faa",
   "metadata": {},
   "source": [
    "## Scrape data"
   ]
  },
  {
   "cell_type": "code",
   "execution_count": null,
   "id": "24944033-3c03-4961-b984-ae26855c1ed1",
   "metadata": {},
   "outputs": [],
   "source": [
    "date_list = request.html.find('span.module-header.sub.date')\n",
    "date = [date.text for date in date_list]\n",
    "\n",
    "high_list = request.html.find('span.high')\n",
    "high = [high.text[:-1] for high in high_list]\n",
    "\n",
    "low_list = request.html.find('span.low')\n",
    "low = [low.text[1:-1] for low in low_list]\n",
    "\n",
    "value_list = request.html.find('span.value')\n",
    "value = [value.text for value in value_list]\n",
    "\n",
    "wind = [wind[:-5] for wind in value if \"km/h\" in wind]\n",
    "direction = [data.split()[0] for data in wind]\n",
    "speed = [data.split()[1] for data in wind] \n",
    "\n",
    "rain_list = request.html.find('div.precip')\n",
    "rain = [rain.text[:-1] for rain in rain_list]"
   ]
  },
  {
   "cell_type": "markdown",
   "id": "b186490a-1538-4d12-b346-ee41854a536e",
   "metadata": {},
   "source": [
    "## Save data to dictionary"
   ]
  },
  {
   "cell_type": "code",
   "execution_count": null,
   "id": "96e19491-e779-4a61-b626-ed0f930dd91a",
   "metadata": {},
   "outputs": [],
   "source": [
    "forecast_daily = []\n",
    "\n",
    "for index in range(30):   \n",
    "    forecast_daily.append({\n",
    "        'date': date[index],\n",
    "        'high': high[index],\n",
    "        'low': low[index],\n",
    "        'direction': direction[index],\n",
    "        'speed': speed[index],\n",
    "        'rain': rain[index]\n",
    "    })"
   ]
  },
  {
   "cell_type": "markdown",
   "id": "2743c121-d996-4199-befc-03d1425c0732",
   "metadata": {},
   "source": [
    "## Save dictionary to file"
   ]
  },
  {
   "cell_type": "code",
   "execution_count": null,
   "id": "6ed3037e-eaee-4d3d-a40d-7a491e00abda",
   "metadata": {},
   "outputs": [],
   "source": [
    "date = datetime.now().strftime('%d-%m')\n",
    "df = pd.DataFrame(forecast_daily)\n",
    "\n",
    "output_folder = 'AccuWeather Scraped Data'\n",
    "os.makedirs(output_folder, exist_ok=True)\n",
    "\n",
    "output_path = os.path.join(output_folder, f'{date}.csv')\n",
    "df.to_csv(output_path, index=False)"
   ]
  }
 ],
 "metadata": {
  "kernelspec": {
   "display_name": "Python 3 (ipykernel)",
   "language": "python",
   "name": "python3"
  },
  "language_info": {
   "codemirror_mode": {
    "name": "ipython",
    "version": 3
   },
   "file_extension": ".py",
   "mimetype": "text/x-python",
   "name": "python",
   "nbconvert_exporter": "python",
   "pygments_lexer": "ipython3",
   "version": "3.11.2"
  }
 },
 "nbformat": 4,
 "nbformat_minor": 5
}
